{
 "cells": [
  {
   "metadata": {
    "ExecuteTime": {
     "end_time": "2024-08-15T14:11:54.511655Z",
     "start_time": "2024-08-15T14:11:54.508145Z"
    }
   },
   "cell_type": "code",
   "source": [
    "import pandas as pd\n",
    "import numpy as np"
   ],
   "id": "f1c1b9d9cb20d130",
   "outputs": [],
   "execution_count": 9
  },
  {
   "metadata": {
    "ExecuteTime": {
     "end_time": "2024-08-15T14:11:55.943758Z",
     "start_time": "2024-08-15T14:11:55.917953Z"
    }
   },
   "cell_type": "code",
   "source": [
    "df = pd.read_csv('infectious_cases_initial.csv')\n",
    "df.head()"
   ],
   "id": "a3fb6ff4748854e5",
   "outputs": [
    {
     "data": {
      "text/plain": [
       "        Entity Code  Year  Number_yaws  polio_cases  cases_guinea_worm  \\\n",
       "0  Afghanistan  AFG  1980          NaN       6160.0                0.0   \n",
       "1  Afghanistan  AFG  1981          NaN       5859.0                0.0   \n",
       "2  Afghanistan  AFG  1982          NaN       9730.0                0.0   \n",
       "3  Afghanistan  AFG  1983          NaN      13937.0                0.0   \n",
       "4  Afghanistan  AFG  1984          NaN       3864.0                0.0   \n",
       "\n",
       "   Number_rabies  Number_malaria  Number_hiv  Number_tuberculosis  \\\n",
       "0            NaN             NaN         NaN                  NaN   \n",
       "1            NaN             NaN         NaN                  NaN   \n",
       "2            NaN             NaN         NaN                  NaN   \n",
       "3            NaN             NaN         NaN                  NaN   \n",
       "4            NaN             NaN         NaN                  NaN   \n",
       "\n",
       "   Number_smallpox  Number_cholera_cases  \n",
       "0              NaN                   NaN  \n",
       "1              NaN                   NaN  \n",
       "2              NaN                   NaN  \n",
       "3              NaN                   NaN  \n",
       "4              NaN                   NaN  "
      ],
      "text/html": [
       "<div>\n",
       "<style scoped>\n",
       "    .dataframe tbody tr th:only-of-type {\n",
       "        vertical-align: middle;\n",
       "    }\n",
       "\n",
       "    .dataframe tbody tr th {\n",
       "        vertical-align: top;\n",
       "    }\n",
       "\n",
       "    .dataframe thead th {\n",
       "        text-align: right;\n",
       "    }\n",
       "</style>\n",
       "<table border=\"1\" class=\"dataframe\">\n",
       "  <thead>\n",
       "    <tr style=\"text-align: right;\">\n",
       "      <th></th>\n",
       "      <th>Entity</th>\n",
       "      <th>Code</th>\n",
       "      <th>Year</th>\n",
       "      <th>Number_yaws</th>\n",
       "      <th>polio_cases</th>\n",
       "      <th>cases_guinea_worm</th>\n",
       "      <th>Number_rabies</th>\n",
       "      <th>Number_malaria</th>\n",
       "      <th>Number_hiv</th>\n",
       "      <th>Number_tuberculosis</th>\n",
       "      <th>Number_smallpox</th>\n",
       "      <th>Number_cholera_cases</th>\n",
       "    </tr>\n",
       "  </thead>\n",
       "  <tbody>\n",
       "    <tr>\n",
       "      <th>0</th>\n",
       "      <td>Afghanistan</td>\n",
       "      <td>AFG</td>\n",
       "      <td>1980</td>\n",
       "      <td>NaN</td>\n",
       "      <td>6160.0</td>\n",
       "      <td>0.0</td>\n",
       "      <td>NaN</td>\n",
       "      <td>NaN</td>\n",
       "      <td>NaN</td>\n",
       "      <td>NaN</td>\n",
       "      <td>NaN</td>\n",
       "      <td>NaN</td>\n",
       "    </tr>\n",
       "    <tr>\n",
       "      <th>1</th>\n",
       "      <td>Afghanistan</td>\n",
       "      <td>AFG</td>\n",
       "      <td>1981</td>\n",
       "      <td>NaN</td>\n",
       "      <td>5859.0</td>\n",
       "      <td>0.0</td>\n",
       "      <td>NaN</td>\n",
       "      <td>NaN</td>\n",
       "      <td>NaN</td>\n",
       "      <td>NaN</td>\n",
       "      <td>NaN</td>\n",
       "      <td>NaN</td>\n",
       "    </tr>\n",
       "    <tr>\n",
       "      <th>2</th>\n",
       "      <td>Afghanistan</td>\n",
       "      <td>AFG</td>\n",
       "      <td>1982</td>\n",
       "      <td>NaN</td>\n",
       "      <td>9730.0</td>\n",
       "      <td>0.0</td>\n",
       "      <td>NaN</td>\n",
       "      <td>NaN</td>\n",
       "      <td>NaN</td>\n",
       "      <td>NaN</td>\n",
       "      <td>NaN</td>\n",
       "      <td>NaN</td>\n",
       "    </tr>\n",
       "    <tr>\n",
       "      <th>3</th>\n",
       "      <td>Afghanistan</td>\n",
       "      <td>AFG</td>\n",
       "      <td>1983</td>\n",
       "      <td>NaN</td>\n",
       "      <td>13937.0</td>\n",
       "      <td>0.0</td>\n",
       "      <td>NaN</td>\n",
       "      <td>NaN</td>\n",
       "      <td>NaN</td>\n",
       "      <td>NaN</td>\n",
       "      <td>NaN</td>\n",
       "      <td>NaN</td>\n",
       "    </tr>\n",
       "    <tr>\n",
       "      <th>4</th>\n",
       "      <td>Afghanistan</td>\n",
       "      <td>AFG</td>\n",
       "      <td>1984</td>\n",
       "      <td>NaN</td>\n",
       "      <td>3864.0</td>\n",
       "      <td>0.0</td>\n",
       "      <td>NaN</td>\n",
       "      <td>NaN</td>\n",
       "      <td>NaN</td>\n",
       "      <td>NaN</td>\n",
       "      <td>NaN</td>\n",
       "      <td>NaN</td>\n",
       "    </tr>\n",
       "  </tbody>\n",
       "</table>\n",
       "</div>"
      ]
     },
     "execution_count": 10,
     "metadata": {},
     "output_type": "execute_result"
    }
   ],
   "execution_count": 10
  },
  {
   "metadata": {
    "ExecuteTime": {
     "end_time": "2024-08-15T14:11:57.438947Z",
     "start_time": "2024-08-15T14:11:57.404342Z"
    }
   },
   "cell_type": "code",
   "source": [
    "# Replace NaN values with NULL\n",
    "df = df.replace({np.nan: 'NULL'})\n",
    "\n",
    "# Save the modified DataFrame back to a CSV file\n",
    "df.to_csv('infectious_cases.csv', index=False)"
   ],
   "id": "301cfd1b237ce936",
   "outputs": [],
   "execution_count": 11
  }
 ],
 "metadata": {
  "kernelspec": {
   "display_name": "Python 3",
   "language": "python",
   "name": "python3"
  },
  "language_info": {
   "codemirror_mode": {
    "name": "ipython",
    "version": 2
   },
   "file_extension": ".py",
   "mimetype": "text/x-python",
   "name": "python",
   "nbconvert_exporter": "python",
   "pygments_lexer": "ipython2",
   "version": "2.7.6"
  }
 },
 "nbformat": 4,
 "nbformat_minor": 5
}
